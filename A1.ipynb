{
 "cells": [
  {
   "cell_type": "code",
   "execution_count": 1,
   "id": "06797e74-03ac-467a-aa34-1970c2c28907",
   "metadata": {},
   "outputs": [],
   "source": [
    "import pandas as pd\n",
    "import numpy as np \n",
    "import seaborn as sns\n",
    "import matplotlib.pyplot as plt"
   ]
  },
  {
   "cell_type": "code",
   "execution_count": 2,
   "id": "0e811c53-12c5-473a-adc2-b10ea3ac0148",
   "metadata": {},
   "outputs": [
    {
     "data": {
      "text/html": [
       "<div>\n",
       "<style scoped>\n",
       "    .dataframe tbody tr th:only-of-type {\n",
       "        vertical-align: middle;\n",
       "    }\n",
       "\n",
       "    .dataframe tbody tr th {\n",
       "        vertical-align: top;\n",
       "    }\n",
       "\n",
       "    .dataframe thead th {\n",
       "        text-align: right;\n",
       "    }\n",
       "</style>\n",
       "<table border=\"1\" class=\"dataframe\">\n",
       "  <thead>\n",
       "    <tr style=\"text-align: right;\">\n",
       "      <th></th>\n",
       "      <th>Date</th>\n",
       "      <th>Location</th>\n",
       "      <th>MinTemp</th>\n",
       "      <th>MaxTemp</th>\n",
       "      <th>Rainfall</th>\n",
       "      <th>Evaporation</th>\n",
       "      <th>Sunshine</th>\n",
       "      <th>WindGustDir</th>\n",
       "      <th>WindGustSpeed</th>\n",
       "      <th>WindDir9am</th>\n",
       "      <th>...</th>\n",
       "      <th>Humidity3pm</th>\n",
       "      <th>Pressure9am</th>\n",
       "      <th>Pressure3pm</th>\n",
       "      <th>Cloud9am</th>\n",
       "      <th>Cloud3pm</th>\n",
       "      <th>Temp9am</th>\n",
       "      <th>Temp3pm</th>\n",
       "      <th>RainToday</th>\n",
       "      <th>RISK_MM</th>\n",
       "      <th>RainTomorrow</th>\n",
       "    </tr>\n",
       "  </thead>\n",
       "  <tbody>\n",
       "    <tr>\n",
       "      <th>0</th>\n",
       "      <td>2008-12-01</td>\n",
       "      <td>Albury</td>\n",
       "      <td>13.4</td>\n",
       "      <td>22.9</td>\n",
       "      <td>0.6</td>\n",
       "      <td>NaN</td>\n",
       "      <td>NaN</td>\n",
       "      <td>W</td>\n",
       "      <td>44.0</td>\n",
       "      <td>W</td>\n",
       "      <td>...</td>\n",
       "      <td>22.0</td>\n",
       "      <td>1007.7</td>\n",
       "      <td>1007.1</td>\n",
       "      <td>8.0</td>\n",
       "      <td>NaN</td>\n",
       "      <td>16.9</td>\n",
       "      <td>21.8</td>\n",
       "      <td>No</td>\n",
       "      <td>0.0</td>\n",
       "      <td>No</td>\n",
       "    </tr>\n",
       "    <tr>\n",
       "      <th>1</th>\n",
       "      <td>2008-12-02</td>\n",
       "      <td>Albury</td>\n",
       "      <td>7.4</td>\n",
       "      <td>25.1</td>\n",
       "      <td>0.0</td>\n",
       "      <td>NaN</td>\n",
       "      <td>NaN</td>\n",
       "      <td>WNW</td>\n",
       "      <td>44.0</td>\n",
       "      <td>NNW</td>\n",
       "      <td>...</td>\n",
       "      <td>25.0</td>\n",
       "      <td>1010.6</td>\n",
       "      <td>1007.8</td>\n",
       "      <td>NaN</td>\n",
       "      <td>NaN</td>\n",
       "      <td>17.2</td>\n",
       "      <td>24.3</td>\n",
       "      <td>No</td>\n",
       "      <td>0.0</td>\n",
       "      <td>No</td>\n",
       "    </tr>\n",
       "    <tr>\n",
       "      <th>2</th>\n",
       "      <td>2008-12-03</td>\n",
       "      <td>Albury</td>\n",
       "      <td>12.9</td>\n",
       "      <td>25.7</td>\n",
       "      <td>0.0</td>\n",
       "      <td>NaN</td>\n",
       "      <td>NaN</td>\n",
       "      <td>WSW</td>\n",
       "      <td>46.0</td>\n",
       "      <td>W</td>\n",
       "      <td>...</td>\n",
       "      <td>30.0</td>\n",
       "      <td>1007.6</td>\n",
       "      <td>1008.7</td>\n",
       "      <td>NaN</td>\n",
       "      <td>2.0</td>\n",
       "      <td>21.0</td>\n",
       "      <td>23.2</td>\n",
       "      <td>No</td>\n",
       "      <td>0.0</td>\n",
       "      <td>No</td>\n",
       "    </tr>\n",
       "  </tbody>\n",
       "</table>\n",
       "<p>3 rows × 24 columns</p>\n",
       "</div>"
      ],
      "text/plain": [
       "         Date Location  MinTemp  MaxTemp  Rainfall  Evaporation  Sunshine  \\\n",
       "0  2008-12-01   Albury     13.4     22.9       0.6          NaN       NaN   \n",
       "1  2008-12-02   Albury      7.4     25.1       0.0          NaN       NaN   \n",
       "2  2008-12-03   Albury     12.9     25.7       0.0          NaN       NaN   \n",
       "\n",
       "  WindGustDir  WindGustSpeed WindDir9am  ... Humidity3pm  Pressure9am  \\\n",
       "0           W           44.0          W  ...        22.0       1007.7   \n",
       "1         WNW           44.0        NNW  ...        25.0       1010.6   \n",
       "2         WSW           46.0          W  ...        30.0       1007.6   \n",
       "\n",
       "   Pressure3pm  Cloud9am  Cloud3pm  Temp9am  Temp3pm  RainToday  RISK_MM  \\\n",
       "0       1007.1       8.0       NaN     16.9     21.8         No      0.0   \n",
       "1       1007.8       NaN       NaN     17.2     24.3         No      0.0   \n",
       "2       1008.7       NaN       2.0     21.0     23.2         No      0.0   \n",
       "\n",
       "   RainTomorrow  \n",
       "0            No  \n",
       "1            No  \n",
       "2            No  \n",
       "\n",
       "[3 rows x 24 columns]"
      ]
     },
     "execution_count": 2,
     "metadata": {},
     "output_type": "execute_result"
    }
   ],
   "source": [
    "df = pd.read_csv('weatherAUS.csv')\n",
    "df.head(3)"
   ]
  },
  {
   "cell_type": "code",
   "execution_count": 3,
   "id": "fa6bf213-e09e-4da6-b72e-bf803a5ea3f0",
   "metadata": {},
   "outputs": [
    {
     "data": {
      "text/html": [
       "<div>\n",
       "<style scoped>\n",
       "    .dataframe tbody tr th:only-of-type {\n",
       "        vertical-align: middle;\n",
       "    }\n",
       "\n",
       "    .dataframe tbody tr th {\n",
       "        vertical-align: top;\n",
       "    }\n",
       "\n",
       "    .dataframe thead th {\n",
       "        text-align: right;\n",
       "    }\n",
       "</style>\n",
       "<table border=\"1\" class=\"dataframe\">\n",
       "  <thead>\n",
       "    <tr style=\"text-align: right;\">\n",
       "      <th></th>\n",
       "      <th>MinTemp</th>\n",
       "      <th>MaxTemp</th>\n",
       "      <th>Rainfall</th>\n",
       "      <th>Evaporation</th>\n",
       "      <th>Sunshine</th>\n",
       "      <th>WindGustSpeed</th>\n",
       "      <th>WindSpeed9am</th>\n",
       "      <th>WindSpeed3pm</th>\n",
       "      <th>Humidity9am</th>\n",
       "      <th>Humidity3pm</th>\n",
       "      <th>Pressure9am</th>\n",
       "      <th>Pressure3pm</th>\n",
       "      <th>Cloud9am</th>\n",
       "      <th>Cloud3pm</th>\n",
       "      <th>Temp9am</th>\n",
       "      <th>Temp3pm</th>\n",
       "      <th>RISK_MM</th>\n",
       "    </tr>\n",
       "  </thead>\n",
       "  <tbody>\n",
       "    <tr>\n",
       "      <th>count</th>\n",
       "      <td>141556.000000</td>\n",
       "      <td>141871.000000</td>\n",
       "      <td>140787.000000</td>\n",
       "      <td>81350.000000</td>\n",
       "      <td>74377.000000</td>\n",
       "      <td>132923.000000</td>\n",
       "      <td>140845.000000</td>\n",
       "      <td>139563.000000</td>\n",
       "      <td>140419.000000</td>\n",
       "      <td>138583.000000</td>\n",
       "      <td>128179.000000</td>\n",
       "      <td>128212.000000</td>\n",
       "      <td>88536.000000</td>\n",
       "      <td>85099.000000</td>\n",
       "      <td>141289.000000</td>\n",
       "      <td>139467.000000</td>\n",
       "      <td>142193.000000</td>\n",
       "    </tr>\n",
       "    <tr>\n",
       "      <th>mean</th>\n",
       "      <td>12.186400</td>\n",
       "      <td>23.226784</td>\n",
       "      <td>2.349974</td>\n",
       "      <td>5.469824</td>\n",
       "      <td>7.624853</td>\n",
       "      <td>39.984292</td>\n",
       "      <td>14.001988</td>\n",
       "      <td>18.637576</td>\n",
       "      <td>68.843810</td>\n",
       "      <td>51.482606</td>\n",
       "      <td>1017.653758</td>\n",
       "      <td>1015.258204</td>\n",
       "      <td>4.437189</td>\n",
       "      <td>4.503167</td>\n",
       "      <td>16.987509</td>\n",
       "      <td>21.687235</td>\n",
       "      <td>2.360682</td>\n",
       "    </tr>\n",
       "    <tr>\n",
       "      <th>std</th>\n",
       "      <td>6.403283</td>\n",
       "      <td>7.117618</td>\n",
       "      <td>8.465173</td>\n",
       "      <td>4.188537</td>\n",
       "      <td>3.781525</td>\n",
       "      <td>13.588801</td>\n",
       "      <td>8.893337</td>\n",
       "      <td>8.803345</td>\n",
       "      <td>19.051293</td>\n",
       "      <td>20.797772</td>\n",
       "      <td>7.105476</td>\n",
       "      <td>7.036677</td>\n",
       "      <td>2.887016</td>\n",
       "      <td>2.720633</td>\n",
       "      <td>6.492838</td>\n",
       "      <td>6.937594</td>\n",
       "      <td>8.477969</td>\n",
       "    </tr>\n",
       "    <tr>\n",
       "      <th>min</th>\n",
       "      <td>-8.500000</td>\n",
       "      <td>-4.800000</td>\n",
       "      <td>0.000000</td>\n",
       "      <td>0.000000</td>\n",
       "      <td>0.000000</td>\n",
       "      <td>6.000000</td>\n",
       "      <td>0.000000</td>\n",
       "      <td>0.000000</td>\n",
       "      <td>0.000000</td>\n",
       "      <td>0.000000</td>\n",
       "      <td>980.500000</td>\n",
       "      <td>977.100000</td>\n",
       "      <td>0.000000</td>\n",
       "      <td>0.000000</td>\n",
       "      <td>-7.200000</td>\n",
       "      <td>-5.400000</td>\n",
       "      <td>0.000000</td>\n",
       "    </tr>\n",
       "    <tr>\n",
       "      <th>25%</th>\n",
       "      <td>7.600000</td>\n",
       "      <td>17.900000</td>\n",
       "      <td>0.000000</td>\n",
       "      <td>2.600000</td>\n",
       "      <td>4.900000</td>\n",
       "      <td>31.000000</td>\n",
       "      <td>7.000000</td>\n",
       "      <td>13.000000</td>\n",
       "      <td>57.000000</td>\n",
       "      <td>37.000000</td>\n",
       "      <td>1012.900000</td>\n",
       "      <td>1010.400000</td>\n",
       "      <td>1.000000</td>\n",
       "      <td>2.000000</td>\n",
       "      <td>12.300000</td>\n",
       "      <td>16.600000</td>\n",
       "      <td>0.000000</td>\n",
       "    </tr>\n",
       "    <tr>\n",
       "      <th>50%</th>\n",
       "      <td>12.000000</td>\n",
       "      <td>22.600000</td>\n",
       "      <td>0.000000</td>\n",
       "      <td>4.800000</td>\n",
       "      <td>8.500000</td>\n",
       "      <td>39.000000</td>\n",
       "      <td>13.000000</td>\n",
       "      <td>19.000000</td>\n",
       "      <td>70.000000</td>\n",
       "      <td>52.000000</td>\n",
       "      <td>1017.600000</td>\n",
       "      <td>1015.200000</td>\n",
       "      <td>5.000000</td>\n",
       "      <td>5.000000</td>\n",
       "      <td>16.700000</td>\n",
       "      <td>21.100000</td>\n",
       "      <td>0.000000</td>\n",
       "    </tr>\n",
       "    <tr>\n",
       "      <th>75%</th>\n",
       "      <td>16.800000</td>\n",
       "      <td>28.200000</td>\n",
       "      <td>0.800000</td>\n",
       "      <td>7.400000</td>\n",
       "      <td>10.600000</td>\n",
       "      <td>48.000000</td>\n",
       "      <td>19.000000</td>\n",
       "      <td>24.000000</td>\n",
       "      <td>83.000000</td>\n",
       "      <td>66.000000</td>\n",
       "      <td>1022.400000</td>\n",
       "      <td>1020.000000</td>\n",
       "      <td>7.000000</td>\n",
       "      <td>7.000000</td>\n",
       "      <td>21.600000</td>\n",
       "      <td>26.400000</td>\n",
       "      <td>0.800000</td>\n",
       "    </tr>\n",
       "    <tr>\n",
       "      <th>max</th>\n",
       "      <td>33.900000</td>\n",
       "      <td>48.100000</td>\n",
       "      <td>371.000000</td>\n",
       "      <td>145.000000</td>\n",
       "      <td>14.500000</td>\n",
       "      <td>135.000000</td>\n",
       "      <td>130.000000</td>\n",
       "      <td>87.000000</td>\n",
       "      <td>100.000000</td>\n",
       "      <td>100.000000</td>\n",
       "      <td>1041.000000</td>\n",
       "      <td>1039.600000</td>\n",
       "      <td>9.000000</td>\n",
       "      <td>9.000000</td>\n",
       "      <td>40.200000</td>\n",
       "      <td>46.700000</td>\n",
       "      <td>371.000000</td>\n",
       "    </tr>\n",
       "  </tbody>\n",
       "</table>\n",
       "</div>"
      ],
      "text/plain": [
       "             MinTemp        MaxTemp       Rainfall   Evaporation  \\\n",
       "count  141556.000000  141871.000000  140787.000000  81350.000000   \n",
       "mean       12.186400      23.226784       2.349974      5.469824   \n",
       "std         6.403283       7.117618       8.465173      4.188537   \n",
       "min        -8.500000      -4.800000       0.000000      0.000000   \n",
       "25%         7.600000      17.900000       0.000000      2.600000   \n",
       "50%        12.000000      22.600000       0.000000      4.800000   \n",
       "75%        16.800000      28.200000       0.800000      7.400000   \n",
       "max        33.900000      48.100000     371.000000    145.000000   \n",
       "\n",
       "           Sunshine  WindGustSpeed   WindSpeed9am   WindSpeed3pm  \\\n",
       "count  74377.000000  132923.000000  140845.000000  139563.000000   \n",
       "mean       7.624853      39.984292      14.001988      18.637576   \n",
       "std        3.781525      13.588801       8.893337       8.803345   \n",
       "min        0.000000       6.000000       0.000000       0.000000   \n",
       "25%        4.900000      31.000000       7.000000      13.000000   \n",
       "50%        8.500000      39.000000      13.000000      19.000000   \n",
       "75%       10.600000      48.000000      19.000000      24.000000   \n",
       "max       14.500000     135.000000     130.000000      87.000000   \n",
       "\n",
       "         Humidity9am    Humidity3pm    Pressure9am    Pressure3pm  \\\n",
       "count  140419.000000  138583.000000  128179.000000  128212.000000   \n",
       "mean       68.843810      51.482606    1017.653758    1015.258204   \n",
       "std        19.051293      20.797772       7.105476       7.036677   \n",
       "min         0.000000       0.000000     980.500000     977.100000   \n",
       "25%        57.000000      37.000000    1012.900000    1010.400000   \n",
       "50%        70.000000      52.000000    1017.600000    1015.200000   \n",
       "75%        83.000000      66.000000    1022.400000    1020.000000   \n",
       "max       100.000000     100.000000    1041.000000    1039.600000   \n",
       "\n",
       "           Cloud9am      Cloud3pm        Temp9am        Temp3pm        RISK_MM  \n",
       "count  88536.000000  85099.000000  141289.000000  139467.000000  142193.000000  \n",
       "mean       4.437189      4.503167      16.987509      21.687235       2.360682  \n",
       "std        2.887016      2.720633       6.492838       6.937594       8.477969  \n",
       "min        0.000000      0.000000      -7.200000      -5.400000       0.000000  \n",
       "25%        1.000000      2.000000      12.300000      16.600000       0.000000  \n",
       "50%        5.000000      5.000000      16.700000      21.100000       0.000000  \n",
       "75%        7.000000      7.000000      21.600000      26.400000       0.800000  \n",
       "max        9.000000      9.000000      40.200000      46.700000     371.000000  "
      ]
     },
     "execution_count": 3,
     "metadata": {},
     "output_type": "execute_result"
    }
   ],
   "source": [
    "df.describe()"
   ]
  },
  {
   "cell_type": "code",
   "execution_count": 4,
   "id": "b995536f-d964-4417-a3ef-0354f414bc17",
   "metadata": {},
   "outputs": [
    {
     "name": "stdout",
     "output_type": "stream",
     "text": [
      "<class 'pandas.core.frame.DataFrame'>\n",
      "RangeIndex: 142193 entries, 0 to 142192\n",
      "Data columns (total 24 columns):\n",
      " #   Column         Non-Null Count   Dtype  \n",
      "---  ------         --------------   -----  \n",
      " 0   Date           142193 non-null  object \n",
      " 1   Location       142193 non-null  object \n",
      " 2   MinTemp        141556 non-null  float64\n",
      " 3   MaxTemp        141871 non-null  float64\n",
      " 4   Rainfall       140787 non-null  float64\n",
      " 5   Evaporation    81350 non-null   float64\n",
      " 6   Sunshine       74377 non-null   float64\n",
      " 7   WindGustDir    132863 non-null  object \n",
      " 8   WindGustSpeed  132923 non-null  float64\n",
      " 9   WindDir9am     132180 non-null  object \n",
      " 10  WindDir3pm     138415 non-null  object \n",
      " 11  WindSpeed9am   140845 non-null  float64\n",
      " 12  WindSpeed3pm   139563 non-null  float64\n",
      " 13  Humidity9am    140419 non-null  float64\n",
      " 14  Humidity3pm    138583 non-null  float64\n",
      " 15  Pressure9am    128179 non-null  float64\n",
      " 16  Pressure3pm    128212 non-null  float64\n",
      " 17  Cloud9am       88536 non-null   float64\n",
      " 18  Cloud3pm       85099 non-null   float64\n",
      " 19  Temp9am        141289 non-null  float64\n",
      " 20  Temp3pm        139467 non-null  float64\n",
      " 21  RainToday      140787 non-null  object \n",
      " 22  RISK_MM        142193 non-null  float64\n",
      " 23  RainTomorrow   142193 non-null  object \n",
      "dtypes: float64(17), object(7)\n",
      "memory usage: 26.0+ MB\n"
     ]
    }
   ],
   "source": [
    "df.info()"
   ]
  },
  {
   "cell_type": "code",
   "execution_count": 5,
   "id": "7a7c658a-cb3f-4b7b-8fa8-f73e34dd5056",
   "metadata": {},
   "outputs": [
    {
     "data": {
      "text/plain": [
       "Index(['Date', 'Location', 'MinTemp', 'MaxTemp', 'Rainfall', 'Evaporation',\n",
       "       'Sunshine', 'WindGustDir', 'WindGustSpeed', 'WindDir9am', 'WindDir3pm',\n",
       "       'WindSpeed9am', 'WindSpeed3pm', 'Humidity9am', 'Humidity3pm',\n",
       "       'Pressure9am', 'Pressure3pm', 'Cloud9am', 'Cloud3pm', 'Temp9am',\n",
       "       'Temp3pm', 'RainToday', 'RISK_MM', 'RainTomorrow'],\n",
       "      dtype='object')"
      ]
     },
     "execution_count": 5,
     "metadata": {},
     "output_type": "execute_result"
    }
   ],
   "source": [
    "df.columns\n"
   ]
  },
  {
   "cell_type": "code",
   "execution_count": 6,
   "id": "c6de9830-5a79-4408-8c1a-67586951ddae",
   "metadata": {},
   "outputs": [
    {
     "data": {
      "text/plain": [
       "Date              object\n",
       "Location          object\n",
       "MinTemp          float64\n",
       "MaxTemp          float64\n",
       "Rainfall         float64\n",
       "Evaporation      float64\n",
       "Sunshine         float64\n",
       "WindGustDir       object\n",
       "WindGustSpeed    float64\n",
       "WindDir9am        object\n",
       "WindDir3pm        object\n",
       "WindSpeed9am     float64\n",
       "WindSpeed3pm     float64\n",
       "Humidity9am      float64\n",
       "Humidity3pm      float64\n",
       "Pressure9am      float64\n",
       "Pressure3pm      float64\n",
       "Cloud9am         float64\n",
       "Cloud3pm         float64\n",
       "Temp9am          float64\n",
       "Temp3pm          float64\n",
       "RainToday         object\n",
       "RISK_MM          float64\n",
       "RainTomorrow      object\n",
       "dtype: object"
      ]
     },
     "execution_count": 6,
     "metadata": {},
     "output_type": "execute_result"
    }
   ],
   "source": [
    "df.dtypes"
   ]
  },
  {
   "cell_type": "code",
   "execution_count": 7,
   "id": "fa587668-045e-4dec-868b-8b8b5008a135",
   "metadata": {},
   "outputs": [
    {
     "data": {
      "text/plain": [
       "(142193, 24)"
      ]
     },
     "execution_count": 7,
     "metadata": {},
     "output_type": "execute_result"
    }
   ],
   "source": [
    "df.shape"
   ]
  },
  {
   "cell_type": "code",
   "execution_count": 8,
   "id": "cbd90c09-6c96-4f7c-8dc0-76c65bee0676",
   "metadata": {},
   "outputs": [],
   "source": [
    "numerical = [col for col in df.columns if df[col].dtype != 'object']\n",
    "categorical = [col for col in df.columns if df[col].dtype == 'object']"
   ]
  },
  {
   "cell_type": "code",
   "execution_count": 9,
   "id": "5e48cd0b-c75e-4b0a-829a-26c2583c004d",
   "metadata": {},
   "outputs": [],
   "source": [
    "i = 1"
   ]
  },
  {
   "cell_type": "code",
   "execution_count": 10,
   "id": "9d7450d8-6393-4eb4-af6c-745f0aa04c61",
   "metadata": {},
   "outputs": [
    {
     "data": {
      "text/plain": [
       "<Figure size 2000x2500 with 0 Axes>"
      ]
     },
     "execution_count": 10,
     "metadata": {},
     "output_type": "execute_result"
    },
    {
     "data": {
      "text/plain": [
       "<Figure size 2000x2500 with 0 Axes>"
      ]
     },
     "metadata": {},
     "output_type": "display_data"
    }
   ],
   "source": [
    "plt.figure(figsize = (20, 25))"
   ]
  },
  {
   "cell_type": "code",
   "execution_count": 11,
   "id": "b7a5e07c-ee66-4a20-afb8-4a3dce4a105d",
   "metadata": {},
   "outputs": [
    {
     "data": {
      "image/png": "[encoded data removed]",
      "text/plain": [
       "<Figure size 640x480 with 17 Axes>"
      ]
     },
     "metadata": {},
     "output_type": "display_data"
    }
   ],
   "source": [
    "for col in numerical:\n",
    "    plt.subplot(9, 2, i)\n",
    "    sns.boxplot(data = df[col], orient = 'h', color = 'r').set_title(col)\n",
    "    i+=1"
   ]
  },
  {
   "cell_type": "code",
   "execution_count": 12,
   "id": "2ffa9922-5b93-46eb-82e5-4ea2b3263cc0",
   "metadata": {},
   "outputs": [
    {
     "data": {
      "text/plain": [
       "<Figure size 640x480 with 0 Axes>"
      ]
     },
     "metadata": {},
     "output_type": "display_data"
    }
   ],
   "source": [
    "plt.tight_layout()\n",
    "plt.show()"
   ]
  },
  {
   "cell_type": "code",
   "execution_count": 15,
   "id": "ba409cb4-780f-43a4-b4ee-15f1744df9d1",
   "metadata": {},
   "outputs": [],
   "source": [
    "for col in numerical:\n",
    "    q1 = df[col].quantile(0.25)\n",
    "    q3 = df[col].quantile(0.75)\n",
    "    IQR = q3-q1\n",
    "    low_limit = q1 - (IQR*1.5)\n",
    "    high_limit = q3 + (IQR*1.5)\n",
    "    df.loc[df[col]<low_limit, col] = low_limit\n",
    "    df.loc[df[col]>high_limit, col] = high_limit\n"
   ]
  },
  {
   "cell_type": "code",
   "execution_count": 16,
   "id": "bf5ae989-9728-4e1f-97ae-7df16bd23a18",
   "metadata": {},
   "outputs": [
    {
     "data": {
      "text/plain": [
       "<Figure size 2000x2500 with 0 Axes>"
      ]
     },
     "execution_count": 16,
     "metadata": {},
     "output_type": "execute_result"
    },
    {
     "data": {
      "text/plain": [
       "<Figure size 2000x2500 with 0 Axes>"
      ]
     },
     "metadata": {},
     "output_type": "display_data"
    }
   ],
   "source": [
    "i = 1\n",
    "\n",
    "plt.figure(figsize = (20, 25))"
   ]
  },
  {
   "cell_type": "code",
   "execution_count": 17,
   "id": "7daa0a0d-068f-46d8-a1ff-6d4f7afdb54c",
   "metadata": {},
   "outputs": [
    {
     "data": {
      "image/png": "[encoded data removed]",
      "text/plain": [
       "<Figure size 640x480 with 17 Axes>"
      ]
     },
     "metadata": {},
     "output_type": "display_data"
    }
   ],
   "source": [
    "for col in numerical:\n",
    "    plt.subplot(9, 2, i)\n",
    "    sns.boxplot(data = df[col], orient = 'h').set_title(col)\n",
    "    i+=1"
   ]
  },
  {
   "cell_type": "code",
   "execution_count": 18,
   "id": "1e38c968-8f8d-45b5-bb29-d9b41fb9781e",
   "metadata": {},
   "outputs": [
    {
     "data": {
      "text/plain": [
       "<Figure size 640x480 with 0 Axes>"
      ]
     },
     "metadata": {},
     "output_type": "display_data"
    }
   ],
   "source": [
    "plt.tight_layout()\n",
    "plt.show()\n"
   ]
  },
  {
   "cell_type": "code",
   "execution_count": 20,
   "id": "3d5e43fb-cf87-49e0-92da-a02c363db817",
   "metadata": {},
   "outputs": [
    {
     "name": "stdout",
     "output_type": "stream",
     "text": [
      "Date                 0\n",
      "Location             0\n",
      "MinTemp            637\n",
      "MaxTemp            322\n",
      "Rainfall          1406\n",
      "Evaporation      60843\n",
      "Sunshine         67816\n",
      "WindGustDir       9330\n",
      "WindGustSpeed     9270\n",
      "WindDir9am       10013\n",
      "WindDir3pm        3778\n",
      "WindSpeed9am      1348\n",
      "WindSpeed3pm      2630\n",
      "Humidity9am       1774\n",
      "Humidity3pm       3610\n",
      "Pressure9am      14014\n",
      "Pressure3pm      13981\n",
      "Cloud9am         53657\n",
      "Cloud3pm         57094\n",
      "Temp9am            904\n",
      "Temp3pm           2726\n",
      "RainToday         1406\n",
      "RISK_MM              0\n",
      "RainTomorrow         0\n",
      "dtype: int64\n",
      "----------------------------------\n",
      "316559\n"
     ]
    }
   ],
   "source": [
    "print(df.isnull().sum())\n",
    "print('----------------------------------')\n",
    "print(df.isnull().sum().sum())"
   ]
  },
  {
   "cell_type": "code",
   "execution_count": 21,
   "id": "ef15cfb1-e804-401c-8d11-c4f33e3cd687",
   "metadata": {},
   "outputs": [],
   "source": [
    "for col in df.columns:\n",
    "    if col in numerical:\n",
    "        df[col].fillna(df[col].mean(), inplace = True)\n",
    "    elif col in categorical:\n",
    "        df[col].fillna(df[col].mode()[0], inplace = True)"
   ]
  },
  {
   "cell_type": "code",
   "execution_count": 22,
   "id": "81ec9149-1e7a-4ad9-a04d-6645a2cfac93",
   "metadata": {},
   "outputs": [
    {
     "name": "stdout",
     "output_type": "stream",
     "text": [
      "Date             0\n",
      "Location         0\n",
      "MinTemp          0\n",
      "MaxTemp          0\n",
      "Rainfall         0\n",
      "Evaporation      0\n",
      "Sunshine         0\n",
      "WindGustDir      0\n",
      "WindGustSpeed    0\n",
      "WindDir9am       0\n",
      "WindDir3pm       0\n",
      "WindSpeed9am     0\n",
      "WindSpeed3pm     0\n",
      "Humidity9am      0\n",
      "Humidity3pm      0\n",
      "Pressure9am      0\n",
      "Pressure3pm      0\n",
      "Cloud9am         0\n",
      "Cloud3pm         0\n",
      "Temp9am          0\n",
      "Temp3pm          0\n",
      "RainToday        0\n",
      "RISK_MM          0\n",
      "RainTomorrow     0\n",
      "dtype: int64\n",
      "----------------------------------\n",
      "0\n"
     ]
    }
   ],
   "source": [
    "print(df.isnull().sum())\n",
    "print('----------------------------------')\n",
    "print(df.isnull().sum().sum())"
   ]
  },
  {
   "cell_type": "code",
   "execution_count": 24,
   "id": "e5919757-c3db-4fed-93c7-7c145ad5478d",
   "metadata": {},
   "outputs": [
    {
     "data": {
      "text/plain": [
       "dtype('<M8[ns]')"
      ]
     },
     "execution_count": 24,
     "metadata": {},
     "output_type": "execute_result"
    }
   ],
   "source": [
    "df['Date'].dtype"
   ]
  },
  {
   "cell_type": "code",
   "execution_count": 25,
   "id": "4000cf2d-6363-4a6d-bd0e-4cffa25e6b30",
   "metadata": {},
   "outputs": [
    {
     "data": {
      "text/plain": [
       "dtype('<M8[ns]')"
      ]
     },
     "execution_count": 25,
     "metadata": {},
     "output_type": "execute_result"
    }
   ],
   "source": [
    "df['Date']= pd.to_datetime(df['Date'])\n",
    "df['Date'].dtype"
   ]
  },
  {
   "cell_type": "code",
   "execution_count": 26,
   "id": "561d3ac7-a965-4208-9109-1dd672d24fc3",
   "metadata": {},
   "outputs": [],
   "source": [
    "from sklearn.preprocessing import LabelEncoder"
   ]
  },
  {
   "cell_type": "code",
   "execution_count": 27,
   "id": "cd2444aa-c00d-40ae-89b6-598e820d4812",
   "metadata": {},
   "outputs": [],
   "source": [
    "le = LabelEncoder()\n",
    "df['Location'] = le.fit_transform(df['Location'])"
   ]
  },
  {
   "cell_type": "code",
   "execution_count": 28,
   "id": "5ed37561-adfe-4b38-9916-430f63c504f0",
   "metadata": {},
   "outputs": [
    {
     "data": {
      "text/plain": [
       "array([ 2,  4, 10, 11, 21, 24, 26, 27, 30, 34, 37, 38, 42, 45, 47,  9, 40,\n",
       "       23,  5,  6, 35, 19, 18, 20, 25, 33, 44, 12,  7,  8, 14, 39,  0, 22,\n",
       "       28, 48,  1, 46, 29, 32, 31, 36, 43, 15, 17,  3, 13, 16, 41])"
      ]
     },
     "execution_count": 28,
     "metadata": {},
     "output_type": "execute_result"
    }
   ],
   "source": [
    "df['Location'].unique()"
   ]
  },
  {
   "cell_type": "code",
   "execution_count": 29,
   "id": "4a76f3e6-bbac-4a0d-93c5-2f0f84c813ec",
   "metadata": {},
   "outputs": [
    {
     "data": {
      "text/plain": [
       "array(['No', 'Yes'], dtype=object)"
      ]
     },
     "execution_count": 29,
     "metadata": {},
     "output_type": "execute_result"
    }
   ],
   "source": [
    "df['RainToday'].unique()"
   ]
  },
  {
   "cell_type": "code",
   "execution_count": 30,
   "id": "e12b670c-5f37-41fb-b856-a2225a667eaa",
   "metadata": {},
   "outputs": [],
   "source": [
    "df.loc[df['RainToday']== 'No', 'RainToday']  = 0\n",
    "df.loc[df['RainToday']== 'Yes' , 'RainToday'] = 1\n"
   ]
  },
  {
   "cell_type": "code",
   "execution_count": 31,
   "id": "7c4336f5-07f1-41e6-bb47-98d1ba6e1ae0",
   "metadata": {},
   "outputs": [
    {
     "data": {
      "text/plain": [
       "array([0, 1], dtype=object)"
      ]
     },
     "execution_count": 31,
     "metadata": {},
     "output_type": "execute_result"
    }
   ],
   "source": [
    "df['RainToday'].unique()"
   ]
  },
  {
   "cell_type": "code",
   "execution_count": 32,
   "id": "b4c6bd51-e302-4382-a7cb-c2bab472668f",
   "metadata": {},
   "outputs": [
    {
     "data": {
      "text/plain": [
       "array([ 2,  4, 10, 11, 21, 24, 26, 27, 30, 34, 37, 38, 42, 45, 47,  9, 40,\n",
       "       23,  5,  6, 35, 19, 18, 20, 25, 33, 44, 12,  7,  8, 14, 39,  0, 22,\n",
       "       28, 48,  1, 46, 29, 32, 31, 36, 43, 15, 17,  3, 13, 16, 41])"
      ]
     },
     "execution_count": 32,
     "metadata": {},
     "output_type": "execute_result"
    }
   ],
   "source": [
    "df['Location'].unique()\n"
   ]
  },
  {
   "cell_type": "code",
   "execution_count": 33,
   "id": "c3ed6e56-6e3e-485f-971b-92ae00e4ae74",
   "metadata": {},
   "outputs": [
    {
     "name": "stdout",
     "output_type": "stream",
     "text": [
      "[1007.7        1010.6        1007.6        1017.6        1010.8\n",
      " 1009.2        1009.6        1013.4        1008.9        1007.\n",
      " 1011.8        1010.5         998.65       1001.2        1012.2\n",
      " 1005.8        1009.4        1019.2        1019.3        1013.6\n",
      " 1007.8        1011.         1012.9        1010.9        1006.8\n",
      " 1005.2        1004.8        1005.6        1006.1        1004.5\n",
      " 1014.4        1018.7        1015.1        1012.6        1011.9\n",
      " 1017.8        1009.9        1014.1        1015.7        1011.6\n",
      " 1008.4        1019.7        1015.8        1010.1        1005.3\n",
      " 1007.9        1005.4        1016.5        1017.7        1014.9\n",
      " 1014.6        1014.2        1012.5        1011.7        1008.8\n",
      " 1005.9        1008.         1008.2        1009.3        1012.8\n",
      " 1017.         1023.3        1022.5        1016.2        1017.2\n",
      " 1012.4        1015.6        1013.         1014.         1016.6\n",
      " 1007.5        1014.7        1014.5        1013.7        1015.2\n",
      " 1019.5        1021.3        1017.4        1012.7        1013.3\n",
      " 1016.3        1014.8        1019.1        1023.         1023.8\n",
      " 1022.4        1023.2        1022.6        1018.8        1019.8\n",
      " 1020.4        1021.8        1026.7        1027.1        1024.2\n",
      " 1021.5        1024.4        1024.1        1018.5        1022.8\n",
      " 1022.7        1023.6        1025.2        1026.         1004.\n",
      " 1013.8        1018.         1023.1        1023.4        1026.9\n",
      " 1028.7        1029.8        1031.4        1028.5        1026.2\n",
      " 1028.8        1025.1        1025.6        1022.3        1018.4\n",
      " 1015.3        1015.         1024.7        1022.2        1025.\n",
      " 1024.6        1021.4        1021.7        1030.3        1034.1\n",
      " 1031.9        1029.3        1023.5        1021.         1017.9\n",
      " 1011.1        1025.7        1018.3        1013.9        1029.7\n",
      " 1031.6        1030.8        1021.9        1020.7        1020.2\n",
      " 1015.5        1011.4        1006.5        1008.6        1019.9\n",
      " 1030.4        1032.         1020.5        1010.4        1006.6\n",
      " 1021.6        1009.5        1027.3        1026.8        1024.\n",
      " 1025.8        1027.9        1026.4        1018.6        1009.\n",
      " 1011.5        1021.1        1021.2        1018.2        1027.7\n",
      " 1012.         1004.1        1016.1        1016.9        1002.6\n",
      " 1018.9        1024.9        1005.         1020.         1009.8\n",
      " 1012.3        1020.6        1029.5        1001.9        1000.5\n",
      " 1008.5        1016.         1026.6        1022.9        1020.8\n",
      " 1019.6        1027.5        1025.4        1017.1        1029.1\n",
      " 1010.         1003.7        1010.7        1010.3        1022.\n",
      " 1015.9        1006.9        1019.4        1018.1        1013.5\n",
      " 1016.8        1017.5        1015.4        1006.7        1013.2\n",
      " 1016.4        1017.3        1020.3        1023.9        1016.7\n",
      " 1008.7        1036.3        1035.2        1030.         1025.5\n",
      " 1022.1        1026.5        1027.8        1020.9        1023.7\n",
      " 1005.7        1004.7        1031.8        1032.3        1027.4\n",
      " 1027.2        1034.5        1036.65       1030.1        1024.3\n",
      " 1027.6        1030.5        1032.5        1030.9        1029.2\n",
      " 1032.7        1035.5        1032.1        1031.7        1035.9\n",
      " 1036.1        1024.5        1006.2        1003.1        1029.6\n",
      " 1028.9        1024.8        1026.1        1026.3        1028.2\n",
      " 1028.4        1025.3        1029.4        1004.6        1011.3\n",
      " 1014.3        1012.1        1009.1        1002.4         998.8\n",
      " 1002.3        1006.         1009.7        1004.4        1007.4\n",
      " 1002.5        1019.         1020.1        1001.4        1031.5\n",
      " 1033.         1002.9        1025.9        1028.         1027.\n",
      " 1002.         1028.3        1031.         1035.7        1033.6\n",
      " 1036.6        1031.3        1010.2        1013.1        1032.4\n",
      " 1033.4        1011.2        1004.3        1007.2        1006.3\n",
      " 1000.9        1005.5        1030.2        1035.1        1033.8\n",
      " 1036.5        1034.4        1003.3        1031.1        1031.2\n",
      " 1029.         1028.6        1033.1        1033.2        1007.3\n",
      " 1000.8         999.9        1007.1        1028.1        1033.7\n",
      " 1030.7        1033.3        1008.1        1002.2        1003.\n",
      " 1006.4        1008.3         998.9        1000.7        1033.5\n",
      " 1004.9        1003.2        1034.         1035.6        1035.\n",
      " 1032.2        1032.6        1000.4        1029.9        1034.3\n",
      " 1034.7        1035.3        1036.         1003.9        1032.8\n",
      " 1004.2        1002.8        1003.4        1034.8        1000.1\n",
      " 1032.9        1033.9        1003.6        1000.3        1001.3\n",
      "  999.4        1005.1        1030.6        1001.7        1001.\n",
      " 1017.67428206 1036.2        1035.4        1003.5        1001.5\n",
      " 1034.2        1003.8         999.3        1034.9        1001.1\n",
      " 1002.1        1035.8        1002.7         999.7         999.\n",
      " 1001.6         999.6        1000.6         999.2        1000.2\n",
      "  999.8        1001.8         999.1        1034.6         999.5\n",
      "  998.7        1000.         1036.4       ]\n"
     ]
    }
   ],
   "source": [
    "print(df['Pressure9am'].unique())"
   ]
  },
  {
   "cell_type": "code",
   "execution_count": 34,
   "id": "3d66bce4-267e-4ce7-9ea5-a85b85d89933",
   "metadata": {},
   "outputs": [],
   "source": [
    "from sklearn.preprocessing import StandardScaler"
   ]
  },
  {
   "cell_type": "code",
   "execution_count": 35,
   "id": "2cb25052-01b1-4cf9-afdb-4aceb5c1c350",
   "metadata": {},
   "outputs": [],
   "source": [
    "sc = StandardScaler()\n",
    "df['Pressure9am'] = sc.fit_transform(np.array(df['Pressure9am']).reshape(-1, 1))\n"
   ]
  },
  {
   "cell_type": "code",
   "execution_count": 36,
   "id": "5f0ea1b8-3335-41ea-9ec4-6cd33b01a720",
   "metadata": {},
   "outputs": [
    {
     "name": "stdout",
     "output_type": "stream",
     "text": [
      "[-1.49570791e+00 -1.06083421e+00 -1.51070355e+00 -1.11390737e-02\n",
      " -1.03084292e+00 -1.27077324e+00 -1.21079066e+00 -6.40956155e-01\n",
      " -1.31576017e+00 -1.60067742e+00 -8.80886472e-01 -1.07582985e+00\n",
      " -2.85281376e+00 -2.47042482e+00 -8.20903892e-01 -1.78062516e+00\n",
      " -1.24078195e+00  2.28791243e-01  2.43786888e-01 -6.10964865e-01\n",
      " -1.48071226e+00 -1.00085163e+00 -7.15934379e-01 -1.01584727e+00\n",
      " -1.63066871e+00 -1.87059903e+00 -1.93058161e+00 -1.81061645e+00\n",
      " -1.73563822e+00 -1.97556854e+00 -4.90999707e-01  1.53813019e-01\n",
      " -3.86030193e-01 -7.60921313e-01 -8.65890827e-01  1.88522159e-02\n",
      " -1.16580372e+00 -5.35986641e-01 -2.96056325e-01 -9.10877761e-01\n",
      " -1.39073839e+00  3.03769467e-01 -2.81060680e-01 -1.13581243e+00\n",
      " -1.85560338e+00 -1.46571662e+00 -1.84060774e+00 -1.76091166e-01\n",
      "  3.85657113e-03 -4.16021483e-01 -4.61008417e-01 -5.20990997e-01\n",
      " -7.75916958e-01 -8.95882116e-01 -1.33075582e+00 -1.76562951e+00\n",
      " -1.45072097e+00 -1.42072968e+00 -1.25577759e+00 -7.30930024e-01\n",
      " -1.01112942e-01  8.43612679e-01  7.23647521e-01 -2.21078101e-01\n",
      " -7.11216528e-02 -7.90912603e-01 -3.11051970e-01 -7.00938734e-01\n",
      " -5.50982286e-01 -1.61095522e-01 -1.52569920e+00 -4.46012773e-01\n",
      " -4.76004062e-01 -5.95969221e-01 -3.71034549e-01  2.73778177e-01\n",
      "  5.43699784e-01 -4.11303632e-02 -7.45925668e-01 -6.55951800e-01\n",
      " -2.06082456e-01 -4.31017128e-01  2.13795598e-01  7.98625745e-01\n",
      "  9.18590903e-01  7.08651876e-01  8.28617035e-01  7.38643166e-01\n",
      "  1.68808664e-01  3.18765112e-01  4.08738981e-01  6.18678008e-01\n",
      "  1.35346460e+00  1.41344718e+00  9.78573483e-01  5.73691073e-01\n",
      "  1.00856477e+00  9.63577838e-01  1.23821729e-01  7.68634456e-01\n",
      "  7.53638811e-01  8.88599614e-01  1.12852993e+00  1.24849509e+00\n",
      " -2.05054677e+00 -5.80973576e-01  4.88435055e-02  8.13621390e-01\n",
      "  8.58608324e-01  1.38345589e+00  1.65337750e+00  1.81832959e+00\n",
      "  2.05825991e+00  1.62338621e+00  1.27848638e+00  1.66837314e+00\n",
      "  1.11353429e+00  1.18851251e+00  6.93656232e-01  1.08826085e-01\n",
      " -3.56038904e-01 -4.01025838e-01  1.05355171e+00  6.78660587e-01\n",
      "  1.09853864e+00  1.03855606e+00  5.58695428e-01  6.03682363e-01\n",
      "  1.89330781e+00  2.46314232e+00  2.13323813e+00  1.74335137e+00\n",
      "  8.73603969e-01  4.98712849e-01  3.38478607e-02 -9.85855985e-01\n",
      "  1.20350815e+00  9.38304399e-02 -5.65977931e-01  1.80333395e+00\n",
      "  2.08825120e+00  1.96828604e+00  6.33673652e-01  4.53725915e-01\n",
      "  3.78747691e-01 -3.26047614e-01 -9.40869051e-01 -1.67565565e+00\n",
      " -1.36074710e+00  3.33760757e-01  1.90830346e+00  2.14823378e+00\n",
      "  4.23734625e-01 -1.09082550e+00 -1.66066000e+00  5.88686718e-01\n",
      " -1.22578630e+00  1.44343847e+00  1.36846025e+00  9.48582193e-01\n",
      "  1.21850380e+00  1.53341234e+00  1.30847767e+00  1.38817374e-01\n",
      " -1.30076453e+00 -9.25873406e-01  5.13708494e-01  5.28704139e-01\n",
      "  7.88347951e-02  1.50342105e+00 -8.50895182e-01 -2.03555112e+00\n",
      " -2.36073746e-01 -1.16108587e-01 -2.26048579e+00  1.83804309e-01\n",
      "  1.08354300e+00 -1.90059032e+00  3.48756401e-01 -1.18079937e+00\n",
      " -8.05908248e-01  4.38730270e-01  1.77334266e+00 -2.36545531e+00\n",
      " -2.57539433e+00 -1.37574275e+00 -2.51069390e-01  1.33846896e+00\n",
      "  7.83630100e-01  4.68721560e-01  2.88773822e-01  1.47342976e+00\n",
      "  1.15852122e+00 -8.61172976e-02  1.71336008e+00 -1.15080808e+00\n",
      " -2.09553370e+00 -1.04583856e+00 -1.10582114e+00  6.48669297e-01\n",
      " -2.66065035e-01 -1.61567307e+00  2.58782533e-01  6.38391503e-02\n",
      " -6.25960510e-01 -1.31104232e-01 -2.61347185e-02 -3.41043259e-01\n",
      " -1.64566436e+00 -6.70947445e-01 -1.91086811e-01 -5.61260080e-02\n",
      "  3.93743336e-01  9.33586548e-01 -1.46099877e-01 -1.34575146e+00\n",
      "  2.79304650e+00  2.62809441e+00  1.84832088e+00  1.17351686e+00\n",
      "  6.63664942e-01  1.32347331e+00  1.51841670e+00  4.83717204e-01\n",
      "  9.03595259e-01 -1.79562080e+00 -1.94557725e+00  2.11824249e+00\n",
      "  2.19322071e+00  1.45843412e+00  1.42844283e+00  2.52312490e+00\n",
      "  2.84553126e+00  1.86331653e+00  9.93569127e-01  1.48842541e+00\n",
      "  1.92329910e+00  2.22321200e+00  1.98328168e+00  1.72835572e+00\n",
      "  2.25320329e+00  2.67308134e+00  2.16322942e+00  2.10324684e+00\n",
      "  2.73306392e+00  2.76305521e+00  1.02356042e+00 -1.72064258e+00\n",
      " -2.18550757e+00  1.78833830e+00  1.68336879e+00  1.06854735e+00\n",
      "  1.26349073e+00  1.29348202e+00  1.57839927e+00  1.60839056e+00\n",
      "  1.14352558e+00  1.75834701e+00 -1.96057290e+00 -9.55864696e-01\n",
      " -5.05995352e-01 -8.35899537e-01 -1.28576888e+00 -2.29047708e+00\n",
      " -2.83032029e+00 -2.30547273e+00 -1.75063387e+00 -1.19579501e+00\n",
      " -1.99056419e+00 -1.54069484e+00 -2.27548144e+00  1.98799953e-01\n",
      "  3.63752046e-01 -2.44043353e+00  2.07325555e+00  2.29819022e+00\n",
      " -2.21549886e+00  1.23349944e+00  1.54840798e+00  1.39845154e+00\n",
      " -2.35045966e+00  1.59339492e+00  1.99827733e+00  2.70307263e+00\n",
      "  2.38816409e+00  2.83803344e+00  2.04326426e+00 -1.12081679e+00\n",
      " -6.85943089e-01  2.20821636e+00  2.35817280e+00 -9.70860340e-01\n",
      " -2.00555983e+00 -1.57068613e+00 -1.70564694e+00 -2.51541175e+00\n",
      " -1.82561209e+00  1.87831217e+00  2.61309876e+00  2.41815538e+00\n",
      "  2.82303779e+00  2.50812925e+00 -2.15551628e+00  2.01327297e+00\n",
      "  2.02826862e+00  1.69836443e+00  1.63838185e+00  2.31318587e+00\n",
      "  2.32818151e+00 -1.55569049e+00 -2.53040740e+00 -2.66536820e+00\n",
      " -1.58568178e+00  1.56340363e+00  2.40315974e+00  1.95329039e+00\n",
      "  2.34317716e+00 -1.43572533e+00 -2.32046837e+00 -2.20050321e+00\n",
      " -1.69065129e+00 -1.40573404e+00 -2.81532465e+00 -2.54540304e+00\n",
      "  2.37316845e+00 -1.91558596e+00 -2.17051192e+00  2.44814667e+00\n",
      "  2.68807699e+00  2.59810312e+00  2.17822507e+00  2.23820765e+00\n",
      " -2.59038998e+00  1.83332524e+00  2.49313361e+00  2.55311619e+00\n",
      "  2.64309005e+00  2.74805957e+00 -2.06554241e+00  2.26819893e+00\n",
      " -2.02055548e+00 -2.23049450e+00 -2.14052063e+00  2.56811183e+00\n",
      " -2.63537691e+00  2.28319458e+00  2.43315103e+00 -2.11052934e+00\n",
      " -2.60538562e+00 -2.45542917e+00 -2.74034643e+00 -1.88559467e+00\n",
      "  1.93829475e+00 -2.39544660e+00 -2.50041611e+00  1.70480744e-14\n",
      "  2.77805086e+00  2.65808570e+00 -2.12552499e+00 -2.42543789e+00\n",
      "  2.47813796e+00 -2.08053805e+00 -2.75534207e+00  2.58310748e+00\n",
      " -2.48542046e+00 -2.33546402e+00  2.71806828e+00 -2.24549015e+00\n",
      " -2.69535949e+00 -2.80032900e+00 -2.41044224e+00 -2.71035514e+00\n",
      " -2.56039869e+00 -2.77033772e+00 -2.62038127e+00 -2.68036385e+00\n",
      " -2.38045095e+00 -2.78533336e+00  2.53812054e+00 -2.72535078e+00\n",
      " -2.84531594e+00 -2.65037256e+00  2.80804215e+00]\n"
     ]
    }
   ],
   "source": [
    "print(df['Pressure9am'].unique())"
   ]
  },
  {
   "cell_type": "code",
   "execution_count": 37,
   "id": "1550feea-1314-4f59-96d7-bc67fb10d2bc",
   "metadata": {},
   "outputs": [
    {
     "name": "stdout",
     "output_type": "stream",
     "text": [
      "[1007.1        1007.8        1008.7        1012.8        1006.\n",
      " 1005.4        1008.2        1010.1        1003.6        1005.7\n",
      " 1004.2         996.         1001.8        1010.3        1010.4\n",
      " 1002.2        1009.7        1017.1        1014.8        1008.1\n",
      " 1007.6        1001.7        1003.4        1005.1        1003.2\n",
      " 1013.1        1009.2        1006.7        1002.7        1010.9\n",
      " 1013.7        1006.8        1012.1        1006.9        1012.7\n",
      " 1017.4        1016.2        1010.6        1004.8        1005.9\n",
      "  997.8        1003.9        1014.6        1014.1        1011.6\n",
      " 1011.8        1010.2        1010.5        1007.4        1004.7\n",
      " 1002.6        1005.         1003.8        1006.5        1008.5\n",
      " 1011.1        1017.3        1019.7        1016.4        1013.8\n",
      " 1013.5        1007.5        1004.5        1010.8        1012.4\n",
      " 1013.4        1015.         1012.6        1004.6        1009.\n",
      " 1012.         1014.7        1015.9        1018.         1018.9\n",
      " 1008.         1013.2        1013.9        1013.6        1014.4\n",
      " 1019.2        1017.2        1020.7        1020.6        1019.1\n",
      " 1019.5        1019.4        1018.4        1012.9        1019.3\n",
      " 1016.5        1019.6        1023.5        1023.4        1017.7\n",
      " 1020.3        1020.8        1018.7        1009.8        1016.8\n",
      " 1020.         1020.9        1021.6        1015.7        1002.4\n",
      " 1000.9        1003.3        1018.3        1021.5        1023.2\n",
      " 1024.         1025.9        1027.3        1028.1        1024.6\n",
      " 1023.6        1025.8        1021.8        1022.3        1022.2\n",
      " 1018.5        1011.         1021.2        1019.9        1020.5\n",
      " 1021.4        1022.1        1028.5        1029.9        1029.2\n",
      " 1026.2        1020.4        1017.5        1015.1        1006.3\n",
      " 1008.3        1023.         1013.         1009.3        1027.7\n",
      " 1028.6        1027.1        1018.6        1005.5        1006.6\n",
      " 1009.4        1001.         1005.2        1009.6        1014.9\n",
      " 1019.         1023.8        1015.6        1007.7        1005.8\n",
      " 1009.9        1014.5        1019.8        1006.2        1025.4\n",
      " 1022.7        1023.1        1025.3        1024.8        1022.9\n",
      " 1020.2        1016.7        1008.6        1010.         1015.3\n",
      " 1006.4        1027.2        1022.5        1014.3        1013.3\n",
      "  996.9        1015.2        1021.7        1012.3        1017.9\n",
      " 1011.4        1011.3        1018.2        1015.4        1012.2\n",
      " 1011.9         999.2        1002.9        1008.4        1008.8\n",
      " 1004.9        1025.7        1016.9         999.4         997.6\n",
      " 1024.7        1023.7        1017.6        1022.         1015.8\n",
      " 1017.8        1011.2        1002.3        1003.5        1016.\n",
      " 1016.3        1016.1        1014.2        1007.3        1017.\n",
      " 1012.5        1011.5        1009.1        1004.1        1007.\n",
      " 1003.7        1007.9        1011.7        1021.3        1030.2\n",
      " 1033.6        1031.4        1026.         1021.         1023.3\n",
      " 1018.8        1018.1        1021.1        1020.1        1024.4\n",
      " 1021.9        1014.         1024.1        1024.3        1015.5\n",
      " 1002.8        1030.7        1032.         1028.3        1026.7\n",
      " 1033.8        1034.4        1032.9        1029.8        1029.\n",
      " 1022.8        1025.1        1026.6        1008.9        1026.3\n",
      " 1028.9        1029.1        1034.1        1031.5        1000.1\n",
      " 1004.4        1025.2         999.         1022.6        1025.\n",
      " 1023.9        1007.2        1002.1        1004.3        1000.5\n",
      " 1010.7        1009.5        1006.1        1001.5        1016.6\n",
      " 1002.5        1000.3        1005.3        1030.5        1028.8\n",
      " 1024.9        1024.5        1027.8        1028.7        1032.6\n",
      " 1034.2        1029.7        1033.3        1027.6        1030.4\n",
      "  996.2        1030.9        1026.1        1015.27220613 1000.7\n",
      " 1002.         1001.9        1031.         1031.1        1031.9\n",
      " 1032.5        1025.5        1028.4        1033.2        1024.2\n",
      " 1030.3        1030.         1001.3        1000.8        1001.6\n",
      " 1026.9         997.2         998.5        1026.8        1027.9\n",
      " 1028.2        1029.3        1022.4        1027.4        1029.4\n",
      "  999.6        1001.4         999.1        1001.2         998.4\n",
      " 1025.6        1026.5        1003.          998.9         998.8\n",
      " 1026.4        1027.5        1030.1        1032.3        1032.8\n",
      " 1005.6         998.7        1000.2        1033.5        1032.2\n",
      " 1030.6        1031.7        1028.         1032.1        1031.2\n",
      " 1029.5        1004.          999.5         998.1         997.5\n",
      " 1000.         1034.3        1033.7        1031.3        1032.4\n",
      "  998.         1000.6         998.2        1001.1         999.3\n",
      " 1003.1        1032.7        1031.8         996.4        1031.6\n",
      "  997.7        1027.          997.9         996.7         999.8\n",
      "  999.7         996.5         998.3        1030.8         997.4\n",
      " 1029.6        1034.          999.9         997.1        1000.4\n",
      " 1033.4         996.8         997.          996.1        1033.\n",
      "  996.3         998.6        1026.66       1009.555      1016.777\n",
      "  997.3        1033.1        1033.9         996.6       ]\n"
     ]
    }
   ],
   "source": [
    "print(df['Pressure3pm'].unique())"
   ]
  },
  {
   "cell_type": "code",
   "execution_count": 38,
   "id": "4e39b847-d165-4745-9670-e8b530d0c7f7",
   "metadata": {},
   "outputs": [],
   "source": [
    "from sklearn.preprocessing import MinMaxScaler"
   ]
  },
  {
   "cell_type": "code",
   "execution_count": 39,
   "id": "2b42c924-8f05-4720-b026-8793c3ca4a46",
   "metadata": {},
   "outputs": [],
   "source": [
    "sc = MinMaxScaler()\n",
    "df['Pressure3pm'] = sc.fit_transform(np.array(df['Pressure3pm']).reshape(-1, 1))"
   ]
  },
  {
   "cell_type": "code",
   "execution_count": 40,
   "id": "d1aec9f8-5a87-419a-acf6-0f4c161e8d72",
   "metadata": {},
   "outputs": [
    {
     "name": "stdout",
     "output_type": "stream",
     "text": [
      "[0.2890625  0.30729167 0.33072917 0.4375     0.26041667 0.24479167\n",
      " 0.31770833 0.3671875  0.19791667 0.25260417 0.21354167 0.\n",
      " 0.15104167 0.37239583 0.375      0.16145833 0.35677083 0.54947917\n",
      " 0.48958333 0.31510417 0.30208333 0.1484375  0.19270833 0.23697917\n",
      " 0.1875     0.4453125  0.34375    0.27864583 0.17447917 0.38802083\n",
      " 0.4609375  0.28125    0.41927083 0.28385417 0.43489583 0.55729167\n",
      " 0.52604167 0.38020833 0.22916667 0.2578125  0.046875   0.20572917\n",
      " 0.484375   0.47135417 0.40625    0.41145833 0.36979167 0.37760417\n",
      " 0.296875   0.2265625  0.171875   0.234375   0.203125   0.2734375\n",
      " 0.32552083 0.39322917 0.5546875  0.6171875  0.53125    0.46354167\n",
      " 0.45572917 0.29947917 0.22135417 0.38541667 0.42708333 0.453125\n",
      " 0.49479167 0.43229167 0.22395833 0.33854167 0.41666667 0.48697917\n",
      " 0.51822917 0.57291667 0.59635417 0.3125     0.44791667 0.46614583\n",
      " 0.45833333 0.47916667 0.60416667 0.55208333 0.64322917 0.640625\n",
      " 0.6015625  0.61197917 0.609375   0.58333333 0.44010417 0.60677083\n",
      " 0.53385417 0.61458333 0.71614583 0.71354167 0.56510417 0.6328125\n",
      " 0.64583333 0.59114583 0.359375   0.54166667 0.625      0.6484375\n",
      " 0.66666667 0.51302083 0.16666667 0.12760417 0.19010417 0.58072917\n",
      " 0.6640625  0.70833333 0.72916667 0.77864583 0.81510417 0.8359375\n",
      " 0.74479167 0.71875    0.77604167 0.671875   0.68489583 0.68229167\n",
      " 0.5859375  0.390625   0.65625    0.62239583 0.63802083 0.66145833\n",
      " 0.6796875  0.84635417 0.8828125  0.86458333 0.78645833 0.63541667\n",
      " 0.55989583 0.49739583 0.26822917 0.3203125  0.703125   0.44270833\n",
      " 0.34635417 0.82552083 0.84895833 0.80989583 0.58854167 0.24739583\n",
      " 0.27604167 0.34895833 0.13020833 0.23958333 0.35416667 0.4921875\n",
      " 0.59895833 0.72395833 0.51041667 0.3046875  0.25520833 0.36197917\n",
      " 0.48177083 0.61979167 0.265625   0.765625   0.6953125  0.70572917\n",
      " 0.76302083 0.75       0.70052083 0.63020833 0.5390625  0.328125\n",
      " 0.36458333 0.50260417 0.27083333 0.8125     0.69010417 0.4765625\n",
      " 0.45052083 0.0234375  0.5        0.66927083 0.42447917 0.5703125\n",
      " 0.40104167 0.3984375  0.578125   0.50520833 0.421875   0.4140625\n",
      " 0.08333333 0.1796875  0.32291667 0.33333333 0.23177083 0.7734375\n",
      " 0.54427083 0.08854167 0.04166667 0.74739583 0.72135417 0.5625\n",
      " 0.67708333 0.515625   0.56770833 0.39583333 0.1640625  0.1953125\n",
      " 0.52083333 0.52864583 0.5234375  0.47395833 0.29427083 0.546875\n",
      " 0.4296875  0.40364583 0.34114583 0.2109375  0.28645833 0.20052083\n",
      " 0.30989583 0.40885417 0.65885417 0.890625   0.97916667 0.921875\n",
      " 0.78125    0.65104167 0.7109375  0.59375    0.57552083 0.65364583\n",
      " 0.62760417 0.73958333 0.67447917 0.46875    0.73177083 0.73697917\n",
      " 0.5078125  0.17708333 0.90364583 0.9375     0.84114583 0.79947917\n",
      " 0.984375   1.         0.9609375  0.88020833 0.859375   0.69791667\n",
      " 0.7578125  0.796875   0.3359375  0.7890625  0.85677083 0.86197917\n",
      " 0.9921875  0.92447917 0.10677083 0.21875    0.76041667 0.078125\n",
      " 0.69270833 0.75520833 0.7265625  0.29166667 0.15885417 0.21614583\n",
      " 0.1171875  0.3828125  0.3515625  0.26302083 0.14322917 0.53645833\n",
      " 0.16927083 0.11197917 0.2421875  0.8984375  0.85416667 0.75260417\n",
      " 0.7421875  0.828125   0.8515625  0.953125   0.99479167 0.87760417\n",
      " 0.97135417 0.82291667 0.89583333 0.00520833 0.90885417 0.78385417\n",
      " 0.50188037 0.12239583 0.15625    0.15364583 0.91145833 0.9140625\n",
      " 0.93489583 0.95052083 0.76822917 0.84375    0.96875    0.734375\n",
      " 0.89322917 0.88541667 0.13802083 0.125      0.14583333 0.8046875\n",
      " 0.03125    0.06510417 0.80208333 0.83072917 0.83854167 0.8671875\n",
      " 0.6875     0.81770833 0.86979167 0.09375    0.140625   0.08072917\n",
      " 0.13541667 0.0625     0.77083333 0.79427083 0.18229167 0.07552083\n",
      " 0.07291667 0.79166667 0.8203125  0.88802083 0.9453125  0.95833333\n",
      " 0.25       0.0703125  0.109375   0.9765625  0.94270833 0.90104167\n",
      " 0.9296875  0.83333333 0.94010417 0.91666667 0.87239583 0.20833333\n",
      " 0.09114583 0.0546875  0.0390625  0.10416667 0.99739583 0.98177083\n",
      " 0.91927083 0.94791667 0.05208333 0.11979167 0.05729167 0.1328125\n",
      " 0.0859375  0.18489583 0.95572917 0.93229167 0.01041667 0.92708333\n",
      " 0.04427083 0.80729167 0.04947917 0.01822917 0.09895833 0.09635417\n",
      " 0.01302083 0.05989583 0.90625    0.03645833 0.875      0.98958333\n",
      " 0.1015625  0.02864583 0.11458333 0.97395833 0.02083333 0.02604167\n",
      " 0.00260417 0.96354167 0.0078125  0.06770833 0.7984375  0.35299479\n",
      " 0.54106771 0.03385417 0.96614583 0.98697917 0.015625  ]\n"
     ]
    }
   ],
   "source": [
    "print(df['Pressure3pm'].unique())"
   ]
  },
  {
   "cell_type": "code",
   "execution_count": null,
   "id": "f0aa1264-5a6c-43b3-b0c4-8e14cfd66632",
   "metadata": {},
   "outputs": [],
   "source": []
  }
 ],
 "metadata": {
  "kernelspec": {
   "display_name": "Python 3 (ipykernel)",
   "language": "python",
   "name": "python3"
  },
  "language_info": {
   "codemirror_mode": {
    "name": "ipython",
    "version": 3
   },
   "file_extension": ".py",
   "mimetype": "text/x-python",
   "name": "python",
   "nbconvert_exporter": "python",
   "pygments_lexer": "ipython3",
   "version": "3.10.9"
  }
 },
 "nbformat": 4,
 "nbformat_minor": 5
}
