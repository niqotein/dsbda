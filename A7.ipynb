{
 "cells": [
  {
   "cell_type": "code",
   "execution_count": 1,
   "id": "486512ea-523d-41fc-bbba-47d1fbfe8685",
   "metadata": {},
   "outputs": [],
   "source": [
    "import nltk"
   ]
  },
  {
   "cell_type": "code",
   "execution_count": 2,
   "id": "b7b0e8dd-10c5-4856-b3cb-3570ef8d7282",
   "metadata": {},
   "outputs": [],
   "source": [
    "from nltk.tokenize import word_tokenize"
   ]
  },
  {
   "cell_type": "code",
   "execution_count": 3,
   "id": "54a6d955-76df-480d-807a-c2157592e413",
   "metadata": {},
   "outputs": [],
   "source": [
    "sentence = 'The quick brown fox jumps over the lazy dog'"
   ]
  },
  {
   "cell_type": "code",
   "execution_count": 4,
   "id": "806df569-96bc-4f46-aca2-3f806bb1aa84",
   "metadata": {},
   "outputs": [],
   "source": [
    "tokenized = word_tokenize(sentence)"
   ]
  },
  {
   "cell_type": "code",
   "execution_count": 5,
   "id": "27e5f8c8-a67d-45f2-a68e-1367ab8c6acf",
   "metadata": {},
   "outputs": [
    {
     "data": {
      "text/plain": [
       "['The', 'quick', 'brown', 'fox', 'jumps', 'over', 'the', 'lazy', 'dog']"
      ]
     },
     "execution_count": 5,
     "metadata": {},
     "output_type": "execute_result"
    }
   ],
   "source": [
    "tokenized"
   ]
  },
  {
   "cell_type": "code",
   "execution_count": 6,
   "id": "40225f1f-ca91-421d-a48e-54bc19fa9a11",
   "metadata": {},
   "outputs": [],
   "source": [
    "from nltk.tokenize import sent_tokenize"
   ]
  },
  {
   "cell_type": "code",
   "execution_count": 7,
   "id": "784ee900-6c2e-487f-96f8-a4112165904f",
   "metadata": {},
   "outputs": [],
   "source": [
    "sentence = 'The quick brown fox jumps over the lazy dog. The quick brown fox jumps over the lazy dog. The quick brown fox jumps over the lazy dog.'\n"
   ]
  },
  {
   "cell_type": "code",
   "execution_count": 8,
   "id": "4fca804e-8e77-4da0-a89f-d225fc8b17ae",
   "metadata": {},
   "outputs": [],
   "source": [
    "tokenized = sent_tokenize(sentence)"
   ]
  },
  {
   "cell_type": "code",
   "execution_count": 9,
   "id": "02f4a0e9-55f8-4945-931a-b9a14b59404f",
   "metadata": {},
   "outputs": [
    {
     "data": {
      "text/plain": [
       "['The quick brown fox jumps over the lazy dog.',\n",
       " 'The quick brown fox jumps over the lazy dog.',\n",
       " 'The quick brown fox jumps over the lazy dog.']"
      ]
     },
     "execution_count": 9,
     "metadata": {},
     "output_type": "execute_result"
    }
   ],
   "source": [
    "tokenized"
   ]
  },
  {
   "cell_type": "code",
   "execution_count": 10,
   "id": "ea2358cb-0659-4942-8717-d63b7f5b361b",
   "metadata": {},
   "outputs": [
    {
     "data": {
      "text/plain": [
       "['program', 'program', 'program', 'programm']"
      ]
     },
     "execution_count": 10,
     "metadata": {},
     "output_type": "execute_result"
    }
   ],
   "source": [
    "from nltk.stem import PorterStemmer\n",
    "\n",
    "words = ['program', 'programming', 'programed', 'programmer']\n",
    "\n",
    "stem = []\n",
    "\n",
    "ps = PorterStemmer()\n",
    "\n",
    "for w in words:\n",
    "    stem.append(ps.stem(w))\n",
    "\n",
    "stem"
   ]
  },
  {
   "cell_type": "code",
   "execution_count": 11,
   "id": "7b82af24-9664-48b9-b2f2-f124cdd7cb56",
   "metadata": {},
   "outputs": [
    {
     "data": {
      "text/plain": [
       "['stopped', 'study', 'floor', 'cry']"
      ]
     },
     "execution_count": 11,
     "metadata": {},
     "output_type": "execute_result"
    }
   ],
   "source": [
    "from nltk.stem import WordNetLemmatizer\n",
    "\n",
    "words = ['stopped', 'study', 'floors', 'crying']\n",
    "\n",
    "lem = []\n",
    "\n",
    "wnl = WordNetLemmatizer()\n",
    "\n",
    "for w in words:\n",
    "    lem.append(wnl.lemmatize(w))\n",
    "    \n",
    "lem"
   ]
  },
  {
   "cell_type": "code",
   "execution_count": 12,
   "id": "7c5a64e1-a132-423e-996c-08bf07065446",
   "metadata": {},
   "outputs": [],
   "source": [
    "from nltk.corpus import stopwords\n",
    "\n",
    "stopwords = stopwords.words('english')\n",
    "stopwords\n",
    "\n",
    "text = 'AI was introduced in the year 1956 but it gained popularity recently.'\n",
    "\n",
    "tokenized = word_tokenize(text)\n",
    "\n",
    "remstopwords = []\n",
    "\n",
    "for token in tokenized:\n",
    "    if token not in set(stopwords):\n",
    "        remstopwords.append(token)\n",
    "        \n"
   ]
  },
  {
   "cell_type": "code",
   "execution_count": 13,
   "id": "a15fa8e8-1952-4e50-a5e3-7d88e34d904d",
   "metadata": {},
   "outputs": [
    {
     "data": {
      "text/plain": [
       "['AI', 'introduced', 'year', '1956', 'gained', 'popularity', 'recently', '.']"
      ]
     },
     "execution_count": 13,
     "metadata": {},
     "output_type": "execute_result"
    }
   ],
   "source": [
    "remstopwords"
   ]
  },
  {
   "cell_type": "code",
   "execution_count": 14,
   "id": "fca88e7d-6875-4af0-83b8-b2ce8b3a933c",
   "metadata": {},
   "outputs": [],
   "source": [
    "text = 'AI was introduced in the year 1956 but it gained popularity recently.'\n",
    "\n",
    "postag = []\n",
    "\n",
    "tokenized = word_tokenize(text)\n",
    "\n",
    "for token in tokenized:\n",
    "    postag.append(nltk.pos_tag([token]))\n",
    "\n",
    "corpus = [\n",
    "    'The quick brown fox jumps over the lazy dog',\n",
    "    'The brown fox is quick',\n",
    "    'The lazy dog is sleeping'\n",
    "]"
   ]
  },
  {
   "cell_type": "code",
   "execution_count": 15,
   "id": "b57e1e17-e86b-474c-a566-ad2ff373a634",
   "metadata": {},
   "outputs": [
    {
     "data": {
      "text/plain": [
       "[[('AI', 'NN')],\n",
       " [('was', 'VBD')],\n",
       " [('introduced', 'VBN')],\n",
       " [('in', 'IN')],\n",
       " [('the', 'DT')],\n",
       " [('year', 'NN')],\n",
       " [('1956', 'CD')],\n",
       " [('but', 'CC')],\n",
       " [('it', 'PRP')],\n",
       " [('gained', 'VBN')],\n",
       " [('popularity', 'NN')],\n",
       " [('recently', 'RB')],\n",
       " [('.', '.')]]"
      ]
     },
     "execution_count": 15,
     "metadata": {},
     "output_type": "execute_result"
    }
   ],
   "source": [
    "postag"
   ]
  },
  {
   "cell_type": "code",
   "execution_count": 16,
   "id": "9ad0683c-84ea-432f-8c83-962842974540",
   "metadata": {},
   "outputs": [
    {
     "data": {
      "text/plain": [
       "{'The': 0.24444444444444446,\n",
       " 'quick': 0.044444444444444446,\n",
       " 'brown': 0.044444444444444446,\n",
       " 'fox': 0.044444444444444446,\n",
       " 'jumps': 0.004444444444444444,\n",
       " 'over': 0.004444444444444444,\n",
       " 'the': 0.004444444444444444,\n",
       " 'lazy': 0.20444444444444443,\n",
       " 'dog': 0.20444444444444443,\n",
       " 'is': 0.24,\n",
       " 'sleeping': 0.2}"
      ]
     },
     "execution_count": 16,
     "metadata": {},
     "output_type": "execute_result"
    }
   ],
   "source": [
    "def tf(corpus):\n",
    "    dic={}\n",
    "    for document in corpus:\n",
    "        for word in document.split():\n",
    "            if word in dic:\n",
    "                dic[word]+=1\n",
    "            else:\n",
    "                dic[word]=1\n",
    "        for word,freq in dic.items():\n",
    "            dic[word]=freq/len(document.split())\n",
    "    return dic\n",
    "TF = tf(corpus)\n",
    "TF"
   ]
  },
  {
   "cell_type": "code",
   "execution_count": 17,
   "id": "fb5fc240-dff6-4e65-a6c7-42ae0a000552",
   "metadata": {},
   "outputs": [],
   "source": [
    "import math"
   ]
  },
  {
   "cell_type": "code",
   "execution_count": 18,
   "id": "e4522d1f-46a3-481a-bae7-b544bc994ed9",
   "metadata": {},
   "outputs": [
    {
     "data": {
      "text/plain": [
       "{'The': 0.0,\n",
       " 'quick': 0.4054651081081644,\n",
       " 'brown': 0.4054651081081644,\n",
       " 'fox': 0.4054651081081644,\n",
       " 'jumps': 1.0986122886681098,\n",
       " 'over': 1.0986122886681098,\n",
       " 'the': 1.0986122886681098,\n",
       " 'lazy': 0.4054651081081644,\n",
       " 'dog': 0.4054651081081644,\n",
       " 'is': 0.4054651081081644,\n",
       " 'sleeping': 1.0986122886681098}"
      ]
     },
     "execution_count": 18,
     "metadata": {},
     "output_type": "execute_result"
    }
   ],
   "source": [
    "\n",
    "\n",
    "n = len(corpus)\n",
    "\n",
    "def idf(dic):\n",
    "    idfdic = {}\n",
    "    \n",
    "    for tok, freq in dic.items():\n",
    "        cnt = 0\n",
    "        for document in corpus:\n",
    "            if tok in document:\n",
    "                cnt += 1\n",
    "        idfdic[tok] = math.log(n / cnt)\n",
    "    return idfdic \n",
    "\n",
    "IDF = idf(TF)\n",
    "IDF"
   ]
  },
  {
   "cell_type": "code",
   "execution_count": 19,
   "id": "7b99f83a-d782-437a-9c04-51a78e79a80d",
   "metadata": {},
   "outputs": [
    {
     "data": {
      "text/plain": [
       "[{'jumps': 0.004882721282969376,\n",
       "  'over': 0.004882721282969376,\n",
       "  'quick': 0.018020671471473973,\n",
       "  'lazy': 0.08289508876878027,\n",
       "  'the': 0.004882721282969376,\n",
       "  'brown': 0.018020671471473973,\n",
       "  'fox': 0.018020671471473973,\n",
       "  'dog': 0.08289508876878027,\n",
       "  'The': 0.0},\n",
       " {'quick': 0.018020671471473973,\n",
       "  'brown': 0.018020671471473973,\n",
       "  'fox': 0.018020671471473973,\n",
       "  'is': 0.09731162594595945,\n",
       "  'The': 0.0},\n",
       " {'sleeping': 0.21972245773362198,\n",
       "  'lazy': 0.08289508876878027,\n",
       "  'is': 0.09731162594595945,\n",
       "  'dog': 0.08289508876878027,\n",
       "  'The': 0.0}]"
      ]
     },
     "execution_count": 19,
     "metadata": {},
     "output_type": "execute_result"
    }
   ],
   "source": [
    "tfidfsl = []\n",
    "for document in corpus:\n",
    "    tfidfs = {}\n",
    "    for word in set(document.split()):\n",
    "        tfidfs[word] = TF[word] * IDF[word]\n",
    "    tfidfsl.append(tfidfs)\n",
    "\n",
    "tfidfsl"
   ]
  },
  {
   "cell_type": "code",
   "execution_count": 20,
   "id": "1aadb0b7-c88c-49fb-b481-45572296e9df",
   "metadata": {},
   "outputs": [],
   "source": [
    "from sklearn.feature_extraction.text import TfidfVectorizer"
   ]
  },
  {
   "cell_type": "code",
   "execution_count": 21,
   "id": "fc647c95-d5d6-4c6b-b333-ea6e9bc2c0b4",
   "metadata": {},
   "outputs": [],
   "source": [
    "tfidf = TfidfVectorizer()"
   ]
  },
  {
   "cell_type": "code",
   "execution_count": 22,
   "id": "ef91fb57-4c69-4f78-861b-b5aa674130d2",
   "metadata": {},
   "outputs": [],
   "source": [
    "result = tfidf.fit_transform(corpus)"
   ]
  },
  {
   "cell_type": "code",
   "execution_count": 23,
   "id": "e14103c7-168e-43a7-8660-56e800d185a5",
   "metadata": {},
   "outputs": [
    {
     "name": "stdout",
     "output_type": "stream",
     "text": [
      "\n",
      "Word indexes:\n",
      "{'the': 9, 'quick': 7, 'brown': 0, 'fox': 2, 'jumps': 4, 'over': 6, 'lazy': 5, 'dog': 1, 'is': 3, 'sleeping': 8}\n"
     ]
    }
   ],
   "source": [
    "print('\\nWord indexes:')\n",
    "print(tfidf.vocabulary_)"
   ]
  },
  {
   "cell_type": "code",
   "execution_count": 24,
   "id": "6ddde78a-7160-489d-8b2a-3bf4abb80079",
   "metadata": {},
   "outputs": [
    {
     "name": "stdout",
     "output_type": "stream",
     "text": [
      "\n",
      "tf-idf values:\n",
      "  (0, 1)\t0.30330642493908333\n",
      "  (0, 5)\t0.30330642493908333\n",
      "  (0, 6)\t0.3988114995291713\n",
      "  (0, 4)\t0.3988114995291713\n",
      "  (0, 2)\t0.30330642493908333\n",
      "  (0, 0)\t0.30330642493908333\n",
      "  (0, 7)\t0.30330642493908333\n",
      "  (0, 9)\t0.4710889922721062\n",
      "  (1, 3)\t0.46609584262774545\n",
      "  (1, 2)\t0.46609584262774545\n",
      "  (1, 0)\t0.46609584262774545\n",
      "  (1, 7)\t0.46609584262774545\n",
      "  (1, 9)\t0.3619650009883935\n",
      "  (2, 8)\t0.5694308628404254\n",
      "  (2, 3)\t0.43306684852870914\n",
      "  (2, 1)\t0.43306684852870914\n",
      "  (2, 5)\t0.43306684852870914\n",
      "  (2, 9)\t0.33631504064053513\n"
     ]
    }
   ],
   "source": [
    "print('\\ntf-idf values:')\n",
    "print(result)"
   ]
  }
 ],
 "metadata": {
  "kernelspec": {
   "display_name": "Python 3 (ipykernel)",
   "language": "python",
   "name": "python3"
  },
  "language_info": {
   "codemirror_mode": {
    "name": "ipython",
    "version": 3
   },
   "file_extension": ".py",
   "mimetype": "text/x-python",
   "name": "python",
   "nbconvert_exporter": "python",
   "pygments_lexer": "ipython3",
   "version": "3.10.9"
  }
 },
 "nbformat": 4,
 "nbformat_minor": 5
}
